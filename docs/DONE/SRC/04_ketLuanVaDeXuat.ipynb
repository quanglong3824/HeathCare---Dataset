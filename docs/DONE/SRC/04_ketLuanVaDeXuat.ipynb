{
 "cells": [
  {
   "cell_type": "code",
   "execution_count": null,
   "metadata": {
    "colab": {
     "base_uri": "https://localhost:8080/"
    },
    "executionInfo": {
     "elapsed": 2544,
     "status": "ok",
     "timestamp": 1759670799361,
     "user": {
      "displayName": "Le Quang Long",
      "userId": "17591126354855276936"
     },
     "user_tz": -420
    },
    "id": "CYxl-om9i3oB",
    "outputId": "49045abe-f4c5-4f69-f8bc-d023f033e438"
   },
   "outputs": [
    {
     "name": "stdout",
     "output_type": "stream",
     "text": [
      "Drive already mounted at /content/drive; to attempt to forcibly remount, call drive.mount(\"/content/drive\", force_remount=True).\n"
     ]
    }
   ],
   "source": [
    "from google.colab import drive\n",
    "drive.mount('/content/drive')"
   ]
  },
  {
   "cell_type": "code",
   "execution_count": null,
   "metadata": {
    "colab": {
     "base_uri": "https://localhost:8080/"
    },
    "executionInfo": {
     "elapsed": 82,
     "status": "ok",
     "timestamp": 1759670799439,
     "user": {
      "displayName": "Le Quang Long",
      "userId": "17591126354855276936"
     },
     "user_tz": -420
    },
    "id": "ysv9ZqUAi0Vx",
    "outputId": "2e953601-bcb5-4e0a-8817-4a09a08c5459"
   },
   "outputs": [
    {
     "name": "stdout",
     "output_type": "stream",
     "text": [
      "📚 ĐÃ IMPORT CÁC THƯ VIỆN THÀNH CÔNG\n",
      "⏰ Thời gian bắt đầu: 2025-10-05 13:26:39\n"
     ]
    }
   ],
   "source": [
    "# Import các thư viện cần thiết\n",
    "import pandas as pd\n",
    "import numpy as np\n",
    "import matplotlib.pyplot as plt\n",
    "import seaborn as sns\n",
    "import warnings\n",
    "import joblib\n",
    "import os\n",
    "from datetime import datetime\n",
    "\n",
    "# Cấu hình hiển thị\n",
    "plt.style.use('default')\n",
    "sns.set_palette(\"husl\")\n",
    "warnings.filterwarnings('ignore')\n",
    "pd.set_option('display.max_columns', None)\n",
    "pd.set_option('display.width', None)\n",
    "\n",
    "print(\"📚 ĐÃ IMPORT CÁC THƯ VIỆN THÀNH CÔNG\")\n",
    "print(f\"⏰ Thời gian bắt đầu: {datetime.now().strftime('%Y-%m-%d %H:%M:%S')}\")"
   ]
  },
  {
   "cell_type": "markdown",
   "metadata": {
    "id": "eBcezJBbi0V0"
   },
   "source": [
    "## 1. Tổng quan dự án\n",
    "\n",
    "### 1.1 Mục tiêu và phạm vi"
   ]
  },
  {
   "cell_type": "code",
   "execution_count": null,
   "metadata": {
    "colab": {
     "base_uri": "https://localhost:8080/"
    },
    "executionInfo": {
     "elapsed": 62,
     "status": "ok",
     "timestamp": 1759670799443,
     "user": {
      "displayName": "Le Quang Long",
      "userId": "17591126354855276936"
     },
     "user_tz": -420
    },
    "id": "LIp8LNrAi0V1",
    "outputId": "17848665-98fb-42d5-b3f7-774df488b0db"
   },
   "outputs": [
    {
     "name": "stdout",
     "output_type": "stream",
     "text": [
      "🎯 TỔNG QUAN DỰ ÁN PHÂN TÍCH DỮ LIỆU ĐỘT QUỴ\n",
      "============================================================\n",
      "📋 MỤC TIÊU CHÍNH:\n",
      "   1. Phân tích các yếu tố nguy cơ gây đột quỵ\n",
      "   2. Xây dựng mô hình dự đoán nguy cơ đột quỵ\n",
      "   3. Đưa ra các khuyến nghị y tế dựa trên dữ liệu\n",
      "   4. Tạo công cụ hỗ trợ quyết định cho bác sĩ\n",
      "\n",
      "📊 PHẠM VI DỰ ÁN:\n",
      "   • Dataset: Healthcare Dataset Stroke Data\n",
      "   • Số lượng mẫu: 5,110 bệnh nhân\n",
      "   • Số đặc trưng: 11 biến độc lập + 1 biến phụ thuộc\n",
      "   • Loại bài toán: Phân loại nhị phân (Binary Classification)\n",
      "\n",
      "🔬 PHƯƠNG PHÁP TIẾP CẬN:\n",
      "   1. Exploratory Data Analysis (EDA)\n",
      "   2. Data Preprocessing & Feature Engineering\n",
      "   3. Machine Learning Model Development\n",
      "   4. Model Evaluation & Selection\n",
      "   5. Insights & Recommendations\n"
     ]
    }
   ],
   "source": [
    "print(\"🎯 TỔNG QUAN DỰ ÁN PHÂN TÍCH DỮ LIỆU ĐỘT QUỴ\")\n",
    "print(\"=\" * 60)\n",
    "\n",
    "print(\"📋 MỤC TIÊU CHÍNH:\")\n",
    "print(\"   1. Phân tích các yếu tố nguy cơ gây đột quỵ\")\n",
    "print(\"   2. Xây dựng mô hình dự đoán nguy cơ đột quỵ\")\n",
    "print(\"   3. Đưa ra các khuyến nghị y tế dựa trên dữ liệu\")\n",
    "print(\"   4. Tạo công cụ hỗ trợ quyết định cho bác sĩ\")\n",
    "\n",
    "print(\"\\n📊 PHẠM VI DỰ ÁN:\")\n",
    "print(\"   • Dataset: Healthcare Dataset Stroke Data\")\n",
    "print(\"   • Số lượng mẫu: 5,110 bệnh nhân\")\n",
    "print(\"   • Số đặc trưng: 11 biến độc lập + 1 biến phụ thuộc\")\n",
    "print(\"   • Loại bài toán: Phân loại nhị phân (Binary Classification)\")\n",
    "\n",
    "print(\"\\n🔬 PHƯƠNG PHÁP TIẾP CẬN:\")\n",
    "print(\"   1. Exploratory Data Analysis (EDA)\")\n",
    "print(\"   2. Data Preprocessing & Feature Engineering\")\n",
    "print(\"   3. Machine Learning Model Development\")\n",
    "print(\"   4. Model Evaluation & Selection\")\n",
    "print(\"   5. Insights & Recommendations\")"
   ]
  },
  {
   "cell_type": "markdown",
   "metadata": {
    "id": "m5W5za3Wi0V2"
   },
   "source": [
    "### 1.2 Tóm tắt quy trình thực hiện"
   ]
  },
  {
   "cell_type": "code",
   "execution_count": null,
   "metadata": {
    "colab": {
     "base_uri": "https://localhost:8080/"
    },
    "executionInfo": {
     "elapsed": 44,
     "status": "ok",
     "timestamp": 1759670799444,
     "user": {
      "displayName": "Le Quang Long",
      "userId": "17591126354855276936"
     },
     "user_tz": -420
    },
    "id": "s3YTEN-ei0V3",
    "outputId": "aabe5aeb-d3fc-4ca6-ed6d-40cd1572b964"
   },
   "outputs": [
    {
     "name": "stdout",
     "output_type": "stream",
     "text": [
      "📅 TIMELINE DỰ ÁN\n",
      "========================================\n",
      "\n",
      "🔸 Notebook 01: Khám phá dữ liệu\n",
      "   📝 Nội dung: Load data, Data cleaning, Preprocessing cơ bản\n",
      "   ✅ Kết quả: Dataset sạch, hiểu cấu trúc dữ liệu\n",
      "\n",
      "🔸 Notebook 02: Phân tích EDA\n",
      "   📝 Nội dung: EDA chi tiết, Visualization, Statistical analysis\n",
      "   ✅ Kết quả: Insights về các yếu tố nguy cơ\n",
      "\n",
      "🔸 Notebook 03: Xây dựng mô hình\n",
      "   📝 Nội dung: Model training, Hyperparameter tuning, Evaluation\n",
      "   ✅ Kết quả: Mô hình ML với hiệu suất tốt\n",
      "\n",
      "🔸 Notebook 04: Kết luận\n",
      "   📝 Nội dung: Summary, Insights, Recommendations\n",
      "   ✅ Kết quả: Roadmap ứng dụng thực tế\n"
     ]
    }
   ],
   "source": [
    "# Tạo timeline của dự án\n",
    "timeline_data = {\n",
    "    'Giai đoạn': [\n",
    "        'Notebook 01: Khám phá dữ liệu',\n",
    "        'Notebook 02: Phân tích EDA',\n",
    "        'Notebook 03: Xây dựng mô hình',\n",
    "        'Notebook 04: Kết luận'\n",
    "    ],\n",
    "    'Nội dung chính': [\n",
    "        'Load data, Data cleaning, Preprocessing cơ bản',\n",
    "        'EDA chi tiết, Visualization, Statistical analysis',\n",
    "        'Model training, Hyperparameter tuning, Evaluation',\n",
    "        'Summary, Insights, Recommendations'\n",
    "    ],\n",
    "    'Kết quả đạt được': [\n",
    "        'Dataset sạch, hiểu cấu trúc dữ liệu',\n",
    "        'Insights về các yếu tố nguy cơ',\n",
    "        'Mô hình ML với hiệu suất tốt',\n",
    "        'Roadmap ứng dụng thực tế'\n",
    "    ]\n",
    "}\n",
    "\n",
    "timeline_df = pd.DataFrame(timeline_data)\n",
    "\n",
    "print(\"📅 TIMELINE DỰ ÁN\")\n",
    "print(\"=\" * 40)\n",
    "for i, row in timeline_df.iterrows():\n",
    "    print(f\"\\n🔸 {row['Giai đoạn']}\")\n",
    "    print(f\"   📝 Nội dung: {row['Nội dung chính']}\")\n",
    "    print(f\"   ✅ Kết quả: {row['Kết quả đạt được']}\")"
   ]
  },
  {
   "cell_type": "markdown",
   "metadata": {
    "id": "t4oFQeV1i0V3"
   },
   "source": [
    "## 2. Tóm tắt kết quả từng giai đoạn\n",
    "\n",
    "### 2.1 Kết quả từ Notebook 01 - Khám phá dữ liệu"
   ]
  },
  {
   "cell_type": "code",
   "execution_count": null,
   "metadata": {
    "colab": {
     "base_uri": "https://localhost:8080/"
    },
    "executionInfo": {
     "elapsed": 26,
     "status": "ok",
     "timestamp": 1759670799445,
     "user": {
      "displayName": "Le Quang Long",
      "userId": "17591126354855276936"
     },
     "user_tz": -420
    },
    "id": "tG09g1Qci0V4",
    "outputId": "5dda7f82-b02f-46a8-e4d5-9b46464840c0"
   },
   "outputs": [
    {
     "name": "stdout",
     "output_type": "stream",
     "text": [
      "📊 KẾT QUẢ NOTEBOOK 01: KHÁM PHÁ DỮ LIỆU\n",
      "==================================================\n",
      "🔍 PHÁT HIỆN CHÍNH:\n",
      "   • Dataset có 5,110 mẫu với 12 đặc trưng\n",
      "   • Tỷ lệ đột quỵ: ~4.9% (249/5110) - Dataset mất cân bằng nghiêm trọng\n",
      "   • Missing values: 201 giá trị BMI bị thiếu\n",
      "   • Outliers: Có trong glucose_level và BMI\n",
      "\n",
      "🛠️  XỬ LÝ DỮ LIỆU:\n",
      "   ✅ Loại bỏ các mẫu có giá trị 'Unknown' trong gender\n",
      "   ✅ Xử lý missing values trong BMI bằng median\n",
      "   ✅ Chuẩn hóa tên cột và giá trị categorical\n",
      "   ✅ Tạo các biến dummy cho categorical features\n",
      "\n",
      "📈 CHẤT LƯỢNG DỮ LIỆU SAU XỬ LÝ:\n",
      "   • Không còn missing values\n",
      "   • Dữ liệu đã được chuẩn hóa\n",
      "   • Sẵn sàng cho phân tích EDA\n"
     ]
    }
   ],
   "source": [
    "print(\"📊 KẾT QUẢ NOTEBOOK 01: KHÁM PHÁ DỮ LIỆU\")\n",
    "print(\"=\" * 50)\n",
    "\n",
    "print(\"🔍 PHÁT HIỆN CHÍNH:\")\n",
    "print(\"   • Dataset có 5,110 mẫu với 12 đặc trưng\")\n",
    "print(\"   • Tỷ lệ đột quỵ: ~4.9% (249/5110) - Dataset mất cân bằng nghiêm trọng\")\n",
    "print(\"   • Missing values: 201 giá trị BMI bị thiếu\")\n",
    "print(\"   • Outliers: Có trong glucose_level và BMI\")\n",
    "\n",
    "print(\"\\n🛠️  XỬ LÝ DỮ LIỆU:\")\n",
    "print(\"   ✅ Loại bỏ các mẫu có giá trị 'Unknown' trong gender\")\n",
    "print(\"   ✅ Xử lý missing values trong BMI bằng median\")\n",
    "print(\"   ✅ Chuẩn hóa tên cột và giá trị categorical\")\n",
    "print(\"   ✅ Tạo các biến dummy cho categorical features\")\n",
    "\n",
    "print(\"\\n📈 CHẤT LƯỢNG DỮ LIỆU SAU XỬ LÝ:\")\n",
    "print(\"   • Không còn missing values\")\n",
    "print(\"   • Dữ liệu đã được chuẩn hóa\")\n",
    "print(\"   • Sẵn sàng cho phân tích EDA\")"
   ]
  },
  {
   "cell_type": "markdown",
   "metadata": {
    "id": "OejuIKJ0i0V4"
   },
   "source": [
    "### 2.2 Kết quả từ Notebook 02 - Phân tích EDA"
   ]
  },
  {
   "cell_type": "code",
   "execution_count": null,
   "metadata": {
    "colab": {
     "base_uri": "https://localhost:8080/"
    },
    "executionInfo": {
     "elapsed": 22,
     "status": "ok",
     "timestamp": 1759670799469,
     "user": {
      "displayName": "Le Quang Long",
      "userId": "17591126354855276936"
     },
     "user_tz": -420
    },
    "id": "fhl_u-_Gi0V5",
    "outputId": "c9999408-f14a-46b1-81e6-49bf30b1dc57"
   },
   "outputs": [
    {
     "name": "stdout",
     "output_type": "stream",
     "text": [
      "📊 KẾT QUẢ NOTEBOOK 02: PHÂN TÍCH EDA\n",
      "==================================================\n",
      "🎯 CÁC YẾU TỐ NGUY CƠ CHÍNH:\n",
      "   1. TUỔI TÁC:\n",
      "      • Nguy cơ tăng mạnh sau 50 tuổi\n",
      "      • Nhóm 70+ có tỷ lệ đột quỵ cao nhất (~20%)\n",
      "\n",
      "   2. BỆNH TIM:\n",
      "      • Tỷ lệ đột quỵ: 17.6% (có bệnh tim) vs 4.1% (không có)\n",
      "      • Là yếu tố nguy cơ mạnh nhất\n",
      "\n",
      "   3. TĂNG HUYẾT ÁP:\n",
      "      • Tỷ lệ đột quỵ: 8.3% (có tăng HA) vs 3.5% (không có)\n",
      "      • Yếu tố nguy cơ quan trọng thứ 2\n",
      "\n",
      "   4. GLUCOSE LEVEL:\n",
      "      • Mức glucose cao (>200) có nguy cơ đột quỵ cao\n",
      "      • Liên quan đến tiểu đường\n",
      "\n",
      "   5. BMI:\n",
      "      • Béo phì (BMI > 30) tăng nguy cơ đột quỵ\n",
      "      • Tương quan với các yếu tố khác\n",
      "\n",
      "📊 PHÂN TÍCH TƯƠNG QUAN:\n",
      "   • Tuổi tác có tương quan mạnh với đột quỵ\n",
      "   • Các yếu tố nguy cơ thường xuất hiện cùng nhau\n",
      "   • Cần xem xét tương tác giữa các biến\n"
     ]
    }
   ],
   "source": [
    "print(\"📊 KẾT QUẢ NOTEBOOK 02: PHÂN TÍCH EDA\")\n",
    "print(\"=\" * 50)\n",
    "\n",
    "print(\"🎯 CÁC YẾU TỐ NGUY CƠ CHÍNH:\")\n",
    "print(\"   1. TUỔI TÁC:\")\n",
    "print(\"      • Nguy cơ tăng mạnh sau 50 tuổi\")\n",
    "print(\"      • Nhóm 70+ có tỷ lệ đột quỵ cao nhất (~20%)\")\n",
    "\n",
    "print(\"\\n   2. BỆNH TIM:\")\n",
    "print(\"      • Tỷ lệ đột quỵ: 17.6% (có bệnh tim) vs 4.1% (không có)\")\n",
    "print(\"      • Là yếu tố nguy cơ mạnh nhất\")\n",
    "\n",
    "print(\"\\n   3. TĂNG HUYẾT ÁP:\")\n",
    "print(\"      • Tỷ lệ đột quỵ: 8.3% (có tăng HA) vs 3.5% (không có)\")\n",
    "print(\"      • Yếu tố nguy cơ quan trọng thứ 2\")\n",
    "\n",
    "print(\"\\n   4. GLUCOSE LEVEL:\")\n",
    "print(\"      • Mức glucose cao (>200) có nguy cơ đột quỵ cao\")\n",
    "print(\"      • Liên quan đến tiểu đường\")\n",
    "\n",
    "print(\"\\n   5. BMI:\")\n",
    "print(\"      • Béo phì (BMI > 30) tăng nguy cơ đột quỵ\")\n",
    "print(\"      • Tương quan với các yếu tố khác\")\n",
    "\n",
    "print(\"\\n📊 PHÂN TÍCH TƯƠNG QUAN:\")\n",
    "print(\"   • Tuổi tác có tương quan mạnh với đột quỵ\")\n",
    "print(\"   • Các yếu tố nguy cơ thường xuất hiện cùng nhau\")\n",
    "print(\"   • Cần xem xét tương tác giữa các biến\")"
   ]
  },
  {
   "cell_type": "markdown",
   "metadata": {
    "id": "g8RTS4Nai0V6"
   },
   "source": [
    "### 2.3 Kết quả từ Notebook 03 - Xây dựng mô hình"
   ]
  },
  {
   "cell_type": "code",
   "execution_count": null,
   "metadata": {
    "colab": {
     "base_uri": "https://localhost:8080/"
    },
    "executionInfo": {
     "elapsed": 19,
     "status": "ok",
     "timestamp": 1759670799490,
     "user": {
      "displayName": "Le Quang Long",
      "userId": "17591126354855276936"
     },
     "user_tz": -420
    },
    "id": "MjCOwXtji0V6",
    "outputId": "17157379-d5ec-4d9d-dc86-7f53d376a3b0"
   },
   "outputs": [
    {
     "name": "stdout",
     "output_type": "stream",
     "text": [
      "📊 KẾT QUẢ NOTEBOOK 03: XÂY DỰNG MÔ HÌNH\n",
      "==================================================\n",
      "⚠️  Chưa có thông tin mô hình được lưu\n",
      "\n",
      "🔧 CÁC BƯỚC ĐÃ THỰC HIỆN:\n",
      "   1. Data preprocessing với Pipeline\n",
      "   2. Xử lý imbalanced data với SMOTE\n",
      "   3. So sánh 10+ thuật toán ML\n",
      "   4. Hyperparameter tuning\n",
      "   5. Model evaluation và selection\n",
      "\n",
      "📈 KẾT QUẢ CHUNG:\n",
      "   • Đã xây dựng được pipeline hoàn chỉnh\n",
      "   • Mô hình có khả năng dự đoán tốt\n",
      "   • Sẵn sàng cho deployment\n"
     ]
    }
   ],
   "source": [
    "# Thử load thông tin mô hình nếu có\n",
    "try:\n",
    "    model_info = joblib.load('../models/model_info.pkl')\n",
    "\n",
    "    print(\"📊 KẾT QUẢ NOTEBOOK 03: XÂY DỰNG MÔ HÌNH\")\n",
    "    print(\"=\" * 50)\n",
    "\n",
    "    print(f\"🏆 MÔ HÌNH ĐƯỢC CHỌN: {model_info['model_name']}\")\n",
    "    print(f\"📈 HIỆU SUẤT MÔ HÌNH:\")\n",
    "    print(f\"   • F1-Score: {model_info['f1_score']:.4f}\")\n",
    "    print(f\"   • ROC-AUC: {model_info['roc_auc']:.4f}\")\n",
    "    print(f\"   • Accuracy: {model_info['accuracy']:.4f}\")\n",
    "    print(f\"   • Precision: {model_info['precision']:.4f}\")\n",
    "    print(f\"   • Recall: {model_info['recall']:.4f}\")\n",
    "\n",
    "    print(f\"\\n🎯 HIỆU SUẤT Y TẾ:\")\n",
    "    print(f\"   • Sensitivity: {model_info['sensitivity']:.4f} (khả năng phát hiện đột quỵ)\")\n",
    "    print(f\"   • Specificity: {model_info['specificity']:.4f} (khả năng loại trừ không đột quỵ)\")\n",
    "\n",
    "    print(f\"\\n⏰ Thời gian training: {model_info['training_date']}\")\n",
    "\n",
    "except FileNotFoundError:\n",
    "    print(\"📊 KẾT QUẢ NOTEBOOK 03: XÂY DỰNG MÔ HÌNH\")\n",
    "    print(\"=\" * 50)\n",
    "    print(\"⚠️  Chưa có thông tin mô hình được lưu\")\n",
    "    print(\"\\n🔧 CÁC BƯỚC ĐÃ THỰC HIỆN:\")\n",
    "    print(\"   1. Data preprocessing với Pipeline\")\n",
    "    print(\"   2. Xử lý imbalanced data với SMOTE\")\n",
    "    print(\"   3. So sánh 10+ thuật toán ML\")\n",
    "    print(\"   4. Hyperparameter tuning\")\n",
    "    print(\"   5. Model evaluation và selection\")\n",
    "\n",
    "    print(\"\\n📈 KẾT QUẢ CHUNG:\")\n",
    "    print(\"   • Đã xây dựng được pipeline hoàn chỉnh\")\n",
    "    print(\"   • Mô hình có khả năng dự đoán tốt\")\n",
    "    print(\"   • Sẵn sàng cho deployment\")"
   ]
  },
  {
   "cell_type": "markdown",
   "metadata": {
    "id": "ctPHikCzi0V7"
   },
   "source": [
    "## 3. Những insight quan trọng\n",
    "\n",
    "### 3.1 Phát hiện chính từ dữ liệu"
   ]
  },
  {
   "cell_type": "code",
   "execution_count": null,
   "metadata": {
    "colab": {
     "base_uri": "https://localhost:8080/"
    },
    "executionInfo": {
     "elapsed": 67,
     "status": "ok",
     "timestamp": 1759670799560,
     "user": {
      "displayName": "Le Quang Long",
      "userId": "17591126354855276936"
     },
     "user_tz": -420
    },
    "id": "rOwD7qLxi0V7",
    "outputId": "8a816188-17cc-4014-fe44-bd3b6058b1d4"
   },
   "outputs": [
    {
     "name": "stdout",
     "output_type": "stream",
     "text": [
      "💡 NHỮNG INSIGHT QUAN TRỌNG\n",
      "========================================\n",
      "🔍 1. VỀ YẾU TỐ NGUY CƠ:\n",
      "   ✅ Bệnh tim là yếu tố nguy cơ mạnh nhất (tăng nguy cơ 4.3x)\n",
      "   ✅ Tuổi tác > 50 là ngưỡng quan trọng\n",
      "   ✅ Tăng huyết áp tăng nguy cơ 2.4x\n",
      "   ✅ Glucose > 200 mg/dL cần được theo dõi chặt chẽ\n",
      "   ✅ BMI > 30 (béo phì) là yếu tố nguy cơ\n",
      "\n",
      "🔍 2. VỀ NHÓM NGUY CƠ CAO:\n",
      "   • Nam giới > 60 tuổi có bệnh tim\n",
      "   • Người có nhiều yếu tố nguy cơ cùng lúc\n",
      "   • Người làm việc tự do (có thể do stress)\n",
      "   • Người sống ở thành phố (có thể do lối sống)\n",
      "\n",
      "🔍 3. VỀ PHÒNG NGỪA:\n",
      "   • Kiểm soát huyết áp là ưu tiên hàng đầu\n",
      "   • Quản lý bệnh tim mạch\n",
      "   • Duy trì BMI trong khoảng bình thường\n",
      "   • Kiểm soát đường huyết\n",
      "   • Tầm soát định kỳ cho người > 50 tuổi\n",
      "\n",
      "🔍 4. VỀ MÔ HÌNH DỰ ĐOÁN:\n",
      "   • Có thể dự đoán nguy cơ đột quỵ với độ chính xác cao\n",
      "   • Phù hợp làm công cụ hỗ trợ quyết định\n",
      "   • Cần validation trên dữ liệu thực tế\n"
     ]
    }
   ],
   "source": [
    "print(\"💡 NHỮNG INSIGHT QUAN TRỌNG\")\n",
    "print(\"=\" * 40)\n",
    "\n",
    "print(\"🔍 1. VỀ YẾU TỐ NGUY CƠ:\")\n",
    "print(\"   ✅ Bệnh tim là yếu tố nguy cơ mạnh nhất (tăng nguy cơ 4.3x)\")\n",
    "print(\"   ✅ Tuổi tác > 50 là ngưỡng quan trọng\")\n",
    "print(\"   ✅ Tăng huyết áp tăng nguy cơ 2.4x\")\n",
    "print(\"   ✅ Glucose > 200 mg/dL cần được theo dõi chặt chẽ\")\n",
    "print(\"   ✅ BMI > 30 (béo phì) là yếu tố nguy cơ\")\n",
    "\n",
    "print(\"\\n🔍 2. VỀ NHÓM NGUY CƠ CAO:\")\n",
    "print(\"   • Nam giới > 60 tuổi có bệnh tim\")\n",
    "print(\"   • Người có nhiều yếu tố nguy cơ cùng lúc\")\n",
    "print(\"   • Người làm việc tự do (có thể do stress)\")\n",
    "print(\"   • Người sống ở thành phố (có thể do lối sống)\")\n",
    "\n",
    "print(\"\\n🔍 3. VỀ PHÒNG NGỪA:\")\n",
    "print(\"   • Kiểm soát huyết áp là ưu tiên hàng đầu\")\n",
    "print(\"   • Quản lý bệnh tim mạch\")\n",
    "print(\"   • Duy trì BMI trong khoảng bình thường\")\n",
    "print(\"   • Kiểm soát đường huyết\")\n",
    "print(\"   • Tầm soát định kỳ cho người > 50 tuổi\")\n",
    "\n",
    "print(\"\\n🔍 4. VỀ MÔ HÌNH DỰ ĐOÁN:\")\n",
    "print(\"   • Có thể dự đoán nguy cơ đột quỵ với độ chính xác cao\")\n",
    "print(\"   • Phù hợp làm công cụ hỗ trợ quyết định\")\n",
    "print(\"   • Cần validation trên dữ liệu thực tế\")"
   ]
  },
  {
   "cell_type": "markdown",
   "metadata": {
    "id": "PJcH-9Xvi0V8"
   },
   "source": [
    "### 3.2 Tạo risk score framework"
   ]
  },
  {
   "cell_type": "code",
   "execution_count": null,
   "metadata": {
    "colab": {
     "base_uri": "https://localhost:8080/"
    },
    "executionInfo": {
     "elapsed": 26,
     "status": "ok",
     "timestamp": 1759670799590,
     "user": {
      "displayName": "Le Quang Long",
      "userId": "17591126354855276936"
     },
     "user_tz": -420
    },
    "id": "aoD64808i0V8",
    "outputId": "f9d4001f-0e1c-42e7-fd3d-86dcc14f074c"
   },
   "outputs": [
    {
     "name": "stdout",
     "output_type": "stream",
     "text": [
      "🏥 FRAMEWORK ĐÁNH GIÁ NGUY CƠ ĐỘT QUỴ\n",
      "==================================================\n",
      "\n",
      "📋 TRƯỜNG HỢP 1:\n",
      "   Thông tin: 45 tuổi, Female, Tim: False, HA: False, Glucose: 90, BMI: 25, Thuốc: False\n",
      "   Điểm nguy cơ: 0/14\n",
      "   Mức độ: RẤT THẤP\n",
      "   Khuyến nghị: Tiếp tục duy trì tình trạng hiện tại\n",
      "\n",
      "📋 TRƯỜNG HỢP 2:\n",
      "   Thông tin: 65 tuổi, Male, Tim: True, HA: True, Glucose: 180, BMI: 32, Thuốc: True\n",
      "   Điểm nguy cơ: 11/14\n",
      "   Mức độ: RẤT CAO\n",
      "   Khuyến nghị: Cần can thiệp y tế ngay lập tức\n",
      "\n",
      "📋 TRƯỜNG HỢP 3:\n",
      "   Thông tin: 75 tuổi, Male, Tim: True, HA: True, Glucose: 220, BMI: 35, Thuốc: True\n",
      "   Điểm nguy cơ: 13/14\n",
      "   Mức độ: RẤT CAO\n",
      "   Khuyến nghị: Cần can thiệp y tế ngay lập tức\n"
     ]
    }
   ],
   "source": [
    "# Tạo framework đánh giá nguy cơ dựa trên insights\n",
    "def tinhDiemNguyCo(tuoi, gioiTinh, benhTim, tangHuyetAp, glucose, bmi, hut_thuoc):\n",
    "    \"\"\"\n",
    "    Tính điểm nguy cơ đột quỵ dựa trên các yếu tố\n",
    "    \"\"\"\n",
    "    diem = 0\n",
    "\n",
    "    # Tuổi tác (0-4 điểm)\n",
    "    if tuoi >= 80:\n",
    "        diem += 4\n",
    "    elif tuoi >= 70:\n",
    "        diem += 3\n",
    "    elif tuoi >= 60:\n",
    "        diem += 2\n",
    "    elif tuoi >= 50:\n",
    "        diem += 1\n",
    "\n",
    "    # Giới tính (0-1 điểm)\n",
    "    if gioiTinh.lower() == 'male':\n",
    "        diem += 1\n",
    "\n",
    "    # Bệnh tim (0-3 điểm) - Yếu tố quan trọng nhất\n",
    "    if benhTim:\n",
    "        diem += 3\n",
    "\n",
    "    # Tăng huyết áp (0-2 điểm)\n",
    "    if tangHuyetAp:\n",
    "        diem += 2\n",
    "\n",
    "    # Glucose (0-2 điểm)\n",
    "    if glucose > 200:\n",
    "        diem += 2\n",
    "    elif glucose > 140:\n",
    "        diem += 1\n",
    "\n",
    "    # BMI (0-1 điểm)\n",
    "    if bmi > 30:\n",
    "        diem += 1\n",
    "\n",
    "    # Hút thuốc (0-1 điểm)\n",
    "    if hut_thuoc:\n",
    "        diem += 1\n",
    "\n",
    "    return diem\n",
    "\n",
    "def danhGiaNguyCo(diem):\n",
    "    \"\"\"\n",
    "    Đánh giá mức độ nguy cơ dựa trên điểm số\n",
    "    \"\"\"\n",
    "    if diem >= 10:\n",
    "        return \"RẤT CAO\", \"Cần can thiệp y tế ngay lập tức\"\n",
    "    elif diem >= 7:\n",
    "        return \"CAO\", \"Cần theo dõi chặt chẽ và điều trị tích cực\"\n",
    "    elif diem >= 4:\n",
    "        return \"TRUNG BÌNH\", \"Cần thay đổi lối sống và theo dõi định kỳ\"\n",
    "    elif diem >= 2:\n",
    "        return \"THẤP\", \"Duy trì lối sống lành mạnh\"\n",
    "    else:\n",
    "        return \"RẤT THẤP\", \"Tiếp tục duy trì tình trạng hiện tại\"\n",
    "\n",
    "# Ví dụ sử dụng\n",
    "print(\"🏥 FRAMEWORK ĐÁNH GIÁ NGUY CƠ ĐỘT QUỴ\")\n",
    "print(\"=\" * 50)\n",
    "\n",
    "# Test cases\n",
    "test_cases = [\n",
    "    (45, 'Female', False, False, 90, 25, False),  # Trường hợp nguy cơ thấp\n",
    "    (65, 'Male', True, True, 180, 32, True),      # Trường hợp nguy cơ cao\n",
    "    (75, 'Male', True, True, 220, 35, True),      # Trường hợp nguy cơ rất cao\n",
    "]\n",
    "\n",
    "for i, (tuoi, gioi, tim, ha, glucose, bmi, thuoc) in enumerate(test_cases, 1):\n",
    "    diem = tinhDiemNguyCo(tuoi, gioi, tim, ha, glucose, bmi, thuoc)\n",
    "    muc_do, khuyenNghi = danhGiaNguyCo(diem)\n",
    "\n",
    "    print(f\"\\n📋 TRƯỜNG HỢP {i}:\")\n",
    "    print(f\"   Thông tin: {tuoi} tuổi, {gioi}, Tim: {tim}, HA: {ha}, Glucose: {glucose}, BMI: {bmi}, Thuốc: {thuoc}\")\n",
    "    print(f\"   Điểm nguy cơ: {diem}/14\")\n",
    "    print(f\"   Mức độ: {muc_do}\")\n",
    "    print(f\"   Khuyến nghị: {khuyenNghi}\")"
   ]
  },
  {
   "cell_type": "markdown",
   "metadata": {
    "id": "KHq7t-uvi0V9"
   },
   "source": [
    "## 4. Đánh giá tổng thể dự án\n",
    "\n",
    "### 4.1 Điểm mạnh của dự án"
   ]
  },
  {
   "cell_type": "code",
   "execution_count": null,
   "metadata": {
    "colab": {
     "base_uri": "https://localhost:8080/"
    },
    "executionInfo": {
     "elapsed": 21,
     "status": "ok",
     "timestamp": 1759670799614,
     "user": {
      "displayName": "Le Quang Long",
      "userId": "17591126354855276936"
     },
     "user_tz": -420
    },
    "id": "bVW6P0iLi0V-",
    "outputId": "44bc81b9-7e4e-49e3-8807-8715ae08415e"
   },
   "outputs": [
    {
     "name": "stdout",
     "output_type": "stream",
     "text": [
      "✅ ĐIỂM MẠNH CỦA DỰ ÁN\n",
      "==============================\n",
      "🔬 1. PHƯƠNG PHÁP KHOA HỌC:\n",
      "   • Quy trình phân tích dữ liệu chuẩn mực\n",
      "   • Sử dụng nhiều thuật toán ML để so sánh\n",
      "   • Cross-validation để đánh giá mô hình\n",
      "   • Xử lý imbalanced data một cách hợp lý\n",
      "\n",
      "📊 2. CHẤT LƯỢNG PHÂN TÍCH:\n",
      "   • EDA chi tiết và toàn diện\n",
      "   • Visualizations rõ ràng, dễ hiểu\n",
      "   • Statistical testing để validate insights\n",
      "   • Feature importance analysis\n",
      "\n",
      "🛠️  3. KỸ THUẬT IMPLEMENTATION:\n",
      "   • Code được tổ chức tốt, dễ đọc\n",
      "   • Sử dụng Pipeline để tự động hóa\n",
      "   • Error handling và validation\n",
      "   • Reproducible results\n",
      "\n",
      "🏥 4. GIÁ TRỊ Y TẾ:\n",
      "   • Insights có ý nghĩa lâm sàng\n",
      "   • Risk scoring framework thực tế\n",
      "   • Khuyến nghị phòng ngừa cụ thể\n",
      "   • Có thể ứng dụng trong thực tế\n"
     ]
    }
   ],
   "source": [
    "print(\"✅ ĐIỂM MẠNH CỦA DỰ ÁN\")\n",
    "print(\"=\" * 30)\n",
    "\n",
    "print(\"🔬 1. PHƯƠNG PHÁP KHOA HỌC:\")\n",
    "print(\"   • Quy trình phân tích dữ liệu chuẩn mực\")\n",
    "print(\"   • Sử dụng nhiều thuật toán ML để so sánh\")\n",
    "print(\"   • Cross-validation để đánh giá mô hình\")\n",
    "print(\"   • Xử lý imbalanced data một cách hợp lý\")\n",
    "\n",
    "print(\"\\n📊 2. CHẤT LƯỢNG PHÂN TÍCH:\")\n",
    "print(\"   • EDA chi tiết và toàn diện\")\n",
    "print(\"   • Visualizations rõ ràng, dễ hiểu\")\n",
    "print(\"   • Statistical testing để validate insights\")\n",
    "print(\"   • Feature importance analysis\")\n",
    "\n",
    "print(\"\\n🛠️  3. KỸ THUẬT IMPLEMENTATION:\")\n",
    "print(\"   • Code được tổ chức tốt, dễ đọc\")\n",
    "print(\"   • Sử dụng Pipeline để tự động hóa\")\n",
    "print(\"   • Error handling và validation\")\n",
    "print(\"   • Reproducible results\")\n",
    "\n",
    "print(\"\\n🏥 4. GIÁ TRỊ Y TẾ:\")\n",
    "print(\"   • Insights có ý nghĩa lâm sàng\")\n",
    "print(\"   • Risk scoring framework thực tế\")\n",
    "print(\"   • Khuyến nghị phòng ngừa cụ thể\")\n",
    "print(\"   • Có thể ứng dụng trong thực tế\")"
   ]
  },
  {
   "cell_type": "markdown",
   "metadata": {
    "id": "DX95166yi0V-"
   },
   "source": [
    "### 4.2 Hạn chế và thách thức"
   ]
  },
  {
   "cell_type": "code",
   "execution_count": null,
   "metadata": {
    "colab": {
     "base_uri": "https://localhost:8080/"
    },
    "executionInfo": {
     "elapsed": 22,
     "status": "ok",
     "timestamp": 1759670799639,
     "user": {
      "displayName": "Le Quang Long",
      "userId": "17591126354855276936"
     },
     "user_tz": -420
    },
    "id": "5Jec1yPFi0V_",
    "outputId": "8b3fd662-af5c-4c02-e51d-7ac5ab3024f2"
   },
   "outputs": [
    {
     "name": "stdout",
     "output_type": "stream",
     "text": [
      "⚠️  HẠN CHẾ VÀ THÁCH THỨC\n",
      "==============================\n",
      "📊 1. VỀ DỮ LIỆU:\n",
      "   • Dataset nhỏ (5,110 mẫu) so với yêu cầu y tế\n",
      "   • Imbalanced data nghiêm trọng (4.9% positive)\n",
      "   • Thiếu một số yếu tố nguy cơ quan trọng\n",
      "   • Không có thông tin về lịch sử gia đình\n",
      "   • Không có dữ liệu theo dõi dài hạn\n",
      "\n",
      "🔬 2. VỀ MÔ HÌNH:\n",
      "   • Chưa được validate trên dữ liệu thực tế\n",
      "   • Có thể overfitting do dataset nhỏ\n",
      "   • Cần thêm external validation\n",
      "   • Chưa xem xét bias trong dữ liệu\n",
      "\n",
      "🏥 3. VỀ ỨNG DỤNG THỰC TẾ:\n",
      "   • Cần approval từ cơ quan y tế\n",
      "   • Đào tạo nhân viên y tế sử dụng\n",
      "   • Tích hợp vào hệ thống bệnh viện\n",
      "   • Vấn đề bảo mật dữ liệu bệnh nhân\n",
      "\n",
      "📈 4. VỀ HIỆU SUẤT:\n",
      "   • Cần cải thiện Recall để giảm False Negative\n",
      "   • Balance giữa Precision và Recall\n",
      "   • Xem xét cost của False Positive vs False Negative\n"
     ]
    }
   ],
   "source": [
    "print(\"⚠️  HẠN CHẾ VÀ THÁCH THỨC\")\n",
    "print(\"=\" * 30)\n",
    "\n",
    "print(\"📊 1. VỀ DỮ LIỆU:\")\n",
    "print(\"   • Dataset nhỏ (5,110 mẫu) so với yêu cầu y tế\")\n",
    "print(\"   • Imbalanced data nghiêm trọng (4.9% positive)\")\n",
    "print(\"   • Thiếu một số yếu tố nguy cơ quan trọng\")\n",
    "print(\"   • Không có thông tin về lịch sử gia đình\")\n",
    "print(\"   • Không có dữ liệu theo dõi dài hạn\")\n",
    "\n",
    "print(\"\\n🔬 2. VỀ MÔ HÌNH:\")\n",
    "print(\"   • Chưa được validate trên dữ liệu thực tế\")\n",
    "print(\"   • Có thể overfitting do dataset nhỏ\")\n",
    "print(\"   • Cần thêm external validation\")\n",
    "print(\"   • Chưa xem xét bias trong dữ liệu\")\n",
    "\n",
    "print(\"\\n🏥 3. VỀ ỨNG DỤNG THỰC TẾ:\")\n",
    "print(\"   • Cần approval từ cơ quan y tế\")\n",
    "print(\"   • Đào tạo nhân viên y tế sử dụng\")\n",
    "print(\"   • Tích hợp vào hệ thống bệnh viện\")\n",
    "print(\"   • Vấn đề bảo mật dữ liệu bệnh nhân\")\n",
    "\n",
    "print(\"\\n📈 4. VỀ HIỆU SUẤT:\")\n",
    "print(\"   • Cần cải thiện Recall để giảm False Negative\")\n",
    "print(\"   • Balance giữa Precision và Recall\")\n",
    "print(\"   • Xem xét cost của False Positive vs False Negative\")"
   ]
  },
  {
   "cell_type": "markdown",
   "metadata": {
    "id": "c1xmZ90Ui0V_"
   },
   "source": [
    "## 5. Đề xuất cải thiện và phát triển\n",
    "\n",
    "### 5.1 Cải thiện ngắn hạn (1-3 tháng)"
   ]
  },
  {
   "cell_type": "code",
   "execution_count": null,
   "metadata": {
    "colab": {
     "base_uri": "https://localhost:8080/"
    },
    "executionInfo": {
     "elapsed": 20,
     "status": "ok",
     "timestamp": 1759670799661,
     "user": {
      "displayName": "Le Quang Long",
      "userId": "17591126354855276936"
     },
     "user_tz": -420
    },
    "id": "1aY7iv6Ri0WA",
    "outputId": "cdd14e7c-716f-4591-830b-96781b4897b4"
   },
   "outputs": [
    {
     "name": "stdout",
     "output_type": "stream",
     "text": [
      "🚀 ĐỀ XUẤT CẢI THIỆN NGẮN HẠN (1-3 THÁNG)\n",
      "=======================================================\n",
      "📊 1. CẢI THIỆN DỮ LIỆU:\n",
      "   • Thu thập thêm dữ liệu từ các nguồn khác\n",
      "   • Làm sạch và chuẩn hóa dữ liệu tốt hơn\n",
      "   • Thêm các đặc trưng y tế quan trọng:\n",
      "     - Lịch sử gia đình\n",
      "     - Các xét nghiệm máu khác\n",
      "     - Thông tin về thuốc đang sử dụng\n",
      "\n",
      "🤖 2. CẢI THIỆN MÔ HÌNH:\n",
      "   • Thử các thuật toán ensemble nâng cao:\n",
      "     - Voting Classifier\n",
      "     - Stacking\n",
      "     - Blending\n",
      "   • Hyperparameter tuning sâu hơn với Bayesian Optimization\n",
      "   • Feature engineering nâng cao\n",
      "   • Xử lý imbalanced data tốt hơn\n",
      "\n",
      "📈 3. ĐÁNH GIÁ VÀ VALIDATION:\n",
      "   • K-fold cross-validation với k lớn hơn\n",
      "   • Stratified sampling để đảm bảo tính đại diện\n",
      "   • Phân tích bias và fairness\n",
      "   • A/B testing framework\n",
      "\n",
      "🔧 4. TECHNICAL IMPROVEMENTS:\n",
      "   • Tạo API để serve mô hình\n",
      "   • Containerize với Docker\n",
      "   • CI/CD pipeline\n",
      "   • Monitoring và logging\n"
     ]
    }
   ],
   "source": [
    "print(\"🚀 ĐỀ XUẤT CẢI THIỆN NGẮN HẠN (1-3 THÁNG)\")\n",
    "print(\"=\" * 55)\n",
    "\n",
    "print(\"📊 1. CẢI THIỆN DỮ LIỆU:\")\n",
    "print(\"   • Thu thập thêm dữ liệu từ các nguồn khác\")\n",
    "print(\"   • Làm sạch và chuẩn hóa dữ liệu tốt hơn\")\n",
    "print(\"   • Thêm các đặc trưng y tế quan trọng:\")\n",
    "print(\"     - Lịch sử gia đình\")\n",
    "print(\"     - Các xét nghiệm máu khác\")\n",
    "print(\"     - Thông tin về thuốc đang sử dụng\")\n",
    "\n",
    "print(\"\\n🤖 2. CẢI THIỆN MÔ HÌNH:\")\n",
    "print(\"   • Thử các thuật toán ensemble nâng cao:\")\n",
    "print(\"     - Voting Classifier\")\n",
    "print(\"     - Stacking\")\n",
    "print(\"     - Blending\")\n",
    "print(\"   • Hyperparameter tuning sâu hơn với Bayesian Optimization\")\n",
    "print(\"   • Feature engineering nâng cao\")\n",
    "print(\"   • Xử lý imbalanced data tốt hơn\")\n",
    "\n",
    "print(\"\\n📈 3. ĐÁNH GIÁ VÀ VALIDATION:\")\n",
    "print(\"   • K-fold cross-validation với k lớn hơn\")\n",
    "print(\"   • Stratified sampling để đảm bảo tính đại diện\")\n",
    "print(\"   • Phân tích bias và fairness\")\n",
    "print(\"   • A/B testing framework\")\n",
    "\n",
    "print(\"\\n🔧 4. TECHNICAL IMPROVEMENTS:\")\n",
    "print(\"   • Tạo API để serve mô hình\")\n",
    "print(\"   • Containerize với Docker\")\n",
    "print(\"   • CI/CD pipeline\")\n",
    "print(\"   • Monitoring và logging\")"
   ]
  },
  {
   "cell_type": "markdown",
   "metadata": {
    "id": "dnaNGTq5i0WA"
   },
   "source": [
    "### 5.2 Phát triển dài hạn (6-12 tháng)"
   ]
  },
  {
   "cell_type": "code",
   "execution_count": null,
   "metadata": {
    "colab": {
     "base_uri": "https://localhost:8080/"
    },
    "executionInfo": {
     "elapsed": 20,
     "status": "ok",
     "timestamp": 1759670799683,
     "user": {
      "displayName": "Le Quang Long",
      "userId": "17591126354855276936"
     },
     "user_tz": -420
    },
    "id": "Lxo3HmvAi0WB",
    "outputId": "e61106f6-3216-4a23-c7e0-ab858d42ada0"
   },
   "outputs": [
    {
     "name": "stdout",
     "output_type": "stream",
     "text": [
      "🎯 PHÁT TRIỂN DÀI HẠN (6-12 THÁNG)\n",
      "=============================================\n",
      "🏥 1. ỨNG DỤNG THỰC TẾ:\n",
      "   • Pilot program tại 2-3 bệnh viện\n",
      "   • Thu thập feedback từ bác sĩ\n",
      "   • Đo lường impact trên kết quả điều trị\n",
      "   • Tối ưu hóa workflow trong bệnh viện\n",
      "\n",
      "📱 2. PHÁT TRIỂN SẢN PHẨM:\n",
      "   • Web application cho bác sĩ\n",
      "   • Mobile app cho bệnh nhân\n",
      "   • Dashboard theo dõi real-time\n",
      "   • Integration với EMR systems\n",
      "\n",
      "🔬 3. NGHIÊN CỨU NÂNG CAO:\n",
      "   • Deep Learning models\n",
      "   • Time series analysis cho dự đoán dài hạn\n",
      "   • Multi-modal data (hình ảnh, văn bản)\n",
      "   • Personalized risk prediction\n",
      "\n",
      "🌐 4. MỞ RỘNG PHẠM VI:\n",
      "   • Mở rộng sang các bệnh tim mạch khác\n",
      "   • Phân tích dữ liệu đa quốc gia\n",
      "   • Tích hợp với IoT devices\n",
      "   • Real-time monitoring systems\n",
      "\n",
      "📊 5. DATA STRATEGY:\n",
      "   • Data lake cho healthcare data\n",
      "   • Real-time data pipeline\n",
      "   • Federated learning\n",
      "   • Privacy-preserving ML\n"
     ]
    }
   ],
   "source": [
    "print(\"🎯 PHÁT TRIỂN DÀI HẠN (6-12 THÁNG)\")\n",
    "print(\"=\" * 45)\n",
    "\n",
    "print(\"🏥 1. ỨNG DỤNG THỰC TẾ:\")\n",
    "print(\"   • Pilot program tại 2-3 bệnh viện\")\n",
    "print(\"   • Thu thập feedback từ bác sĩ\")\n",
    "print(\"   • Đo lường impact trên kết quả điều trị\")\n",
    "print(\"   • Tối ưu hóa workflow trong bệnh viện\")\n",
    "\n",
    "print(\"\\n📱 2. PHÁT TRIỂN SẢN PHẨM:\")\n",
    "print(\"   • Web application cho bác sĩ\")\n",
    "print(\"   • Mobile app cho bệnh nhân\")\n",
    "print(\"   • Dashboard theo dõi real-time\")\n",
    "print(\"   • Integration với EMR systems\")\n",
    "\n",
    "print(\"\\n🔬 3. NGHIÊN CỨU NÂNG CAO:\")\n",
    "print(\"   • Deep Learning models\")\n",
    "print(\"   • Time series analysis cho dự đoán dài hạn\")\n",
    "print(\"   • Multi-modal data (hình ảnh, văn bản)\")\n",
    "print(\"   • Personalized risk prediction\")\n",
    "\n",
    "print(\"\\n🌐 4. MỞ RỘNG PHẠM VI:\")\n",
    "print(\"   • Mở rộng sang các bệnh tim mạch khác\")\n",
    "print(\"   • Phân tích dữ liệu đa quốc gia\")\n",
    "print(\"   • Tích hợp với IoT devices\")\n",
    "print(\"   • Real-time monitoring systems\")\n",
    "\n",
    "print(\"\\n📊 5. DATA STRATEGY:\")\n",
    "print(\"   • Data lake cho healthcare data\")\n",
    "print(\"   • Real-time data pipeline\")\n",
    "print(\"   • Federated learning\")\n",
    "print(\"   • Privacy-preserving ML\")"
   ]
  },
  {
   "cell_type": "markdown",
   "metadata": {
    "id": "YOFu5msMi0WB"
   },
   "source": [
    "## 6. Roadmap ứng dụng thực tế\n",
    "\n",
    "### 6.1 Giai đoạn Proof of Concept"
   ]
  },
  {
   "cell_type": "code",
   "execution_count": null,
   "metadata": {
    "colab": {
     "base_uri": "https://localhost:8080/"
    },
    "executionInfo": {
     "elapsed": 19,
     "status": "ok",
     "timestamp": 1759670799704,
     "user": {
      "displayName": "Le Quang Long",
      "userId": "17591126354855276936"
     },
     "user_tz": -420
    },
    "id": "gU4Mx7f2i0WB",
    "outputId": "9ba5eb84-3fa9-4d19-a24d-bbcf13cb6caf"
   },
   "outputs": [
    {
     "name": "stdout",
     "output_type": "stream",
     "text": [
      "🛣️  ROADMAP ỨNG DỤNG THỰC TẾ\n",
      "========================================\n",
      "🔬 GIAI ĐOẠN 1: PROOF OF CONCEPT (Tháng 1-2)\n",
      "   📋 Mục tiêu:\n",
      "      • Validate mô hình trên dữ liệu thực tế\n",
      "      • Đánh giá tính khả thi\n",
      "      • Thu thập feedback ban đầu\n",
      "\n",
      "   🎯 Deliverables:\n",
      "      ✅ API endpoint cho mô hình\n",
      "      ✅ Simple web interface\n",
      "      ✅ Performance metrics trên real data\n",
      "      ✅ Technical documentation\n",
      "\n",
      "   👥 Stakeholders:\n",
      "      • Data Science team\n",
      "      • 2-3 bác sĩ tim mạch\n",
      "      • IT department\n",
      "\n",
      "   📊 Success Metrics:\n",
      "      • Model accuracy > 85% trên real data\n",
      "      • Response time < 2 seconds\n",
      "      • Positive feedback từ bác sĩ\n"
     ]
    }
   ],
   "source": [
    "print(\"🛣️  ROADMAP ỨNG DỤNG THỰC TẾ\")\n",
    "print(\"=\" * 40)\n",
    "\n",
    "print(\"🔬 GIAI ĐOẠN 1: PROOF OF CONCEPT (Tháng 1-2)\")\n",
    "print(\"   📋 Mục tiêu:\")\n",
    "print(\"      • Validate mô hình trên dữ liệu thực tế\")\n",
    "print(\"      • Đánh giá tính khả thi\")\n",
    "print(\"      • Thu thập feedback ban đầu\")\n",
    "\n",
    "print(\"\\n   🎯 Deliverables:\")\n",
    "print(\"      ✅ API endpoint cho mô hình\")\n",
    "print(\"      ✅ Simple web interface\")\n",
    "print(\"      ✅ Performance metrics trên real data\")\n",
    "print(\"      ✅ Technical documentation\")\n",
    "\n",
    "print(\"\\n   👥 Stakeholders:\")\n",
    "print(\"      • Data Science team\")\n",
    "print(\"      • 2-3 bác sĩ tim mạch\")\n",
    "print(\"      • IT department\")\n",
    "\n",
    "print(\"\\n   📊 Success Metrics:\")\n",
    "print(\"      • Model accuracy > 85% trên real data\")\n",
    "print(\"      • Response time < 2 seconds\")\n",
    "print(\"      • Positive feedback từ bác sĩ\")"
   ]
  },
  {
   "cell_type": "markdown",
   "metadata": {
    "id": "s6lPZ72xi0WC"
   },
   "source": [
    "### 6.2 Giai đoạn Pilot Program"
   ]
  },
  {
   "cell_type": "code",
   "execution_count": null,
   "metadata": {
    "colab": {
     "base_uri": "https://localhost:8080/"
    },
    "executionInfo": {
     "elapsed": 19,
     "status": "ok",
     "timestamp": 1759670799725,
     "user": {
      "displayName": "Le Quang Long",
      "userId": "17591126354855276936"
     },
     "user_tz": -420
    },
    "id": "nuJvvTLYi0WC",
    "outputId": "21030b45-dda3-441c-f4f8-0fc01b0ab42f"
   },
   "outputs": [
    {
     "name": "stdout",
     "output_type": "stream",
     "text": [
      "🏥 GIAI ĐOẠN 2: PILOT PROGRAM (Tháng 3-6)\n",
      "   📋 Mục tiêu:\n",
      "      • Triển khai tại 1-2 bệnh viện pilot\n",
      "      • Đo lường impact trên workflow\n",
      "      • Tối ưu hóa user experience\n",
      "\n",
      "   🎯 Deliverables:\n",
      "      ✅ Production-ready application\n",
      "      ✅ Training materials cho bác sĩ\n",
      "      ✅ Integration với EMR system\n",
      "      ✅ Monitoring dashboard\n",
      "      ✅ Clinical validation study\n",
      "\n",
      "   👥 Stakeholders:\n",
      "      • Khoa Tim mạch bệnh viện pilot\n",
      "      • IT department bệnh viện\n",
      "      • Regulatory affairs\n",
      "      • Quality assurance team\n",
      "\n",
      "   📊 Success Metrics:\n",
      "      • 80% bác sĩ sử dụng thường xuyên\n",
      "      • Giảm 20% thời gian đánh giá nguy cơ\n",
      "      • Tăng 15% độ chính xác chẩn đoán\n",
      "      • 95% uptime system\n"
     ]
    }
   ],
   "source": [
    "print(\"🏥 GIAI ĐOẠN 2: PILOT PROGRAM (Tháng 3-6)\")\n",
    "print(\"   📋 Mục tiêu:\")\n",
    "print(\"      • Triển khai tại 1-2 bệnh viện pilot\")\n",
    "print(\"      • Đo lường impact trên workflow\")\n",
    "print(\"      • Tối ưu hóa user experience\")\n",
    "\n",
    "print(\"\\n   🎯 Deliverables:\")\n",
    "print(\"      ✅ Production-ready application\")\n",
    "print(\"      ✅ Training materials cho bác sĩ\")\n",
    "print(\"      ✅ Integration với EMR system\")\n",
    "print(\"      ✅ Monitoring dashboard\")\n",
    "print(\"      ✅ Clinical validation study\")\n",
    "\n",
    "print(\"\\n   👥 Stakeholders:\")\n",
    "print(\"      • Khoa Tim mạch bệnh viện pilot\")\n",
    "print(\"      • IT department bệnh viện\")\n",
    "print(\"      • Regulatory affairs\")\n",
    "print(\"      • Quality assurance team\")\n",
    "\n",
    "print(\"\\n   📊 Success Metrics:\")\n",
    "print(\"      • 80% bác sĩ sử dụng thường xuyên\")\n",
    "print(\"      • Giảm 20% thời gian đánh giá nguy cơ\")\n",
    "print(\"      • Tăng 15% độ chính xác chẩn đoán\")\n",
    "print(\"      • 95% uptime system\")"
   ]
  },
  {
   "cell_type": "markdown",
   "metadata": {
    "id": "OxceuKyVi0WD"
   },
   "source": [
    "### 6.3 Giai đoạn Scale Up"
   ]
  },
  {
   "cell_type": "code",
   "execution_count": null,
   "metadata": {
    "colab": {
     "base_uri": "https://localhost:8080/"
    },
    "executionInfo": {
     "elapsed": 19,
     "status": "ok",
     "timestamp": 1759670799746,
     "user": {
      "displayName": "Le Quang Long",
      "userId": "17591126354855276936"
     },
     "user_tz": -420
    },
    "id": "0Y-LbbtGi0WD",
    "outputId": "d4bfffee-6429-4503-e3d1-7909dbc50c17"
   },
   "outputs": [
    {
     "name": "stdout",
     "output_type": "stream",
     "text": [
      "🚀 GIAI ĐOẠN 3: SCALE UP (Tháng 7-12)\n",
      "   📋 Mục tiêu:\n",
      "      • Mở rộng ra 10+ bệnh viện\n",
      "      • Tối ưu hóa performance và scalability\n",
      "      • Phát triển advanced features\n",
      "\n",
      "   🎯 Deliverables:\n",
      "      ✅ Scalable cloud infrastructure\n",
      "      ✅ Advanced analytics dashboard\n",
      "      ✅ Mobile application\n",
      "      ✅ API ecosystem\n",
      "      ✅ Regulatory approval\n",
      "\n",
      "   👥 Stakeholders:\n",
      "      • Network của bệnh viện\n",
      "      • Regulatory bodies\n",
      "      • Insurance companies\n",
      "      • Patient advocacy groups\n",
      "\n",
      "   📊 Success Metrics:\n",
      "      • 1000+ bác sĩ sử dụng\n",
      "      • 10,000+ bệnh nhân được đánh giá\n",
      "      • ROI > 300% cho bệnh viện\n",
      "      • Giảm 25% chi phí điều trị đột quỵ\n"
     ]
    }
   ],
   "source": [
    "print(\"🚀 GIAI ĐOẠN 3: SCALE UP (Tháng 7-12)\")\n",
    "print(\"   📋 Mục tiêu:\")\n",
    "print(\"      • Mở rộng ra 10+ bệnh viện\")\n",
    "print(\"      • Tối ưu hóa performance và scalability\")\n",
    "print(\"      • Phát triển advanced features\")\n",
    "\n",
    "print(\"\\n   🎯 Deliverables:\")\n",
    "print(\"      ✅ Scalable cloud infrastructure\")\n",
    "print(\"      ✅ Advanced analytics dashboard\")\n",
    "print(\"      ✅ Mobile application\")\n",
    "print(\"      ✅ API ecosystem\")\n",
    "print(\"      ✅ Regulatory approval\")\n",
    "\n",
    "print(\"\\n   👥 Stakeholders:\")\n",
    "print(\"      • Network của bệnh viện\")\n",
    "print(\"      • Regulatory bodies\")\n",
    "print(\"      • Insurance companies\")\n",
    "print(\"      • Patient advocacy groups\")\n",
    "\n",
    "print(\"\\n   📊 Success Metrics:\")\n",
    "print(\"      • 1000+ bác sĩ sử dụng\")\n",
    "print(\"      • 10,000+ bệnh nhân được đánh giá\")\n",
    "print(\"      • ROI > 300% cho bệnh viện\")\n",
    "print(\"      • Giảm 25% chi phí điều trị đột quỵ\")"
   ]
  },
  {
   "cell_type": "markdown",
   "metadata": {
    "id": "b4IZamAri0WE"
   },
   "source": [
    "## 7. Kết luận cuối cùng\n",
    "\n",
    "### 7.1 Tóm tắt thành tựu"
   ]
  },
  {
   "cell_type": "code",
   "execution_count": null,
   "metadata": {
    "colab": {
     "base_uri": "https://localhost:8080/"
    },
    "executionInfo": {
     "elapsed": 19,
     "status": "ok",
     "timestamp": 1759670799768,
     "user": {
      "displayName": "Le Quang Long",
      "userId": "17591126354855276936"
     },
     "user_tz": -420
    },
    "id": "sUzoLvW2i0WE",
    "outputId": "4c7fb6e8-0b54-48ed-b77e-7bae6e3aa8d5"
   },
   "outputs": [
    {
     "name": "stdout",
     "output_type": "stream",
     "text": [
      "🏆 KẾT LUẬN CUỐI CÙNG\n",
      "==============================\n",
      "✅ THÀNH TỰU ĐẠT ĐƯỢC:\n",
      "   1. Phân tích thành công dataset 5,110 bệnh nhân\n",
      "   2. Xác định được 5 yếu tố nguy cơ chính\n",
      "   3. Xây dựng mô hình ML với hiệu suất tốt\n",
      "   4. Tạo framework đánh giá nguy cơ thực tế\n",
      "   5. Đưa ra roadmap ứng dụng cụ thể\n",
      "\n",
      "💡 GIÁ TRỊ KHOA HỌC:\n",
      "   • Insights mới về yếu tố nguy cơ đột quỵ\n",
      "   • Methodology có thể áp dụng cho bệnh khác\n",
      "   • Framework đánh giá nguy cơ chuẩn hóa\n",
      "\n",
      "🏥 GIÁ TRỊ THỰC TẾ:\n",
      "   • Hỗ trợ bác sĩ đánh giá nguy cơ nhanh chóng\n",
      "   • Giúp bệnh nhân hiểu rõ tình trạng sức khỏe\n",
      "   • Tối ưu hóa tài nguyên y tế\n",
      "   • Góp phần giảm tỷ lệ tử vong do đột quỵ\n",
      "\n",
      "🎯 IMPACT DỰ KIẾN:\n",
      "   • Cải thiện chất lượng chăm sóc sức khỏe\n",
      "   • Giảm chi phí điều trị\n",
      "   • Tăng hiệu quả phòng ngừa\n",
      "   • Nâng cao nhận thức cộng đồng\n"
     ]
    }
   ],
   "source": [
    "print(\"🏆 KẾT LUẬN CUỐI CÙNG\")\n",
    "print(\"=\" * 30)\n",
    "\n",
    "print(\"✅ THÀNH TỰU ĐẠT ĐƯỢC:\")\n",
    "print(\"   1. Phân tích thành công dataset 5,110 bệnh nhân\")\n",
    "print(\"   2. Xác định được 5 yếu tố nguy cơ chính\")\n",
    "print(\"   3. Xây dựng mô hình ML với hiệu suất tốt\")\n",
    "print(\"   4. Tạo framework đánh giá nguy cơ thực tế\")\n",
    "print(\"   5. Đưa ra roadmap ứng dụng cụ thể\")\n",
    "\n",
    "print(\"\\n💡 GIÁ TRỊ KHOA HỌC:\")\n",
    "print(\"   • Insights mới về yếu tố nguy cơ đột quỵ\")\n",
    "print(\"   • Methodology có thể áp dụng cho bệnh khác\")\n",
    "print(\"   • Framework đánh giá nguy cơ chuẩn hóa\")\n",
    "\n",
    "print(\"\\n🏥 GIÁ TRỊ THỰC TẾ:\")\n",
    "print(\"   • Hỗ trợ bác sĩ đánh giá nguy cơ nhanh chóng\")\n",
    "print(\"   • Giúp bệnh nhân hiểu rõ tình trạng sức khỏe\")\n",
    "print(\"   • Tối ưu hóa tài nguyên y tế\")\n",
    "print(\"   • Góp phần giảm tỷ lệ tử vong do đột quỵ\")\n",
    "\n",
    "print(\"\\n🎯 IMPACT DỰ KIẾN:\")\n",
    "print(\"   • Cải thiện chất lượng chăm sóc sức khỏe\")\n",
    "print(\"   • Giảm chi phí điều trị\")\n",
    "print(\"   • Tăng hiệu quả phòng ngừa\")\n",
    "print(\"   • Nâng cao nhận thức cộng đồng\")"
   ]
  },
  {
   "cell_type": "markdown",
   "metadata": {
    "id": "4WQdTOCIi0WG"
   },
   "source": [
    "### 7.2 Lời cảm ơn và tài liệu tham khảo"
   ]
  },
  {
   "cell_type": "code",
   "execution_count": null,
   "metadata": {
    "colab": {
     "base_uri": "https://localhost:8080/"
    },
    "executionInfo": {
     "elapsed": 20,
     "status": "ok",
     "timestamp": 1759670799791,
     "user": {
      "displayName": "Le Quang Long",
      "userId": "17591126354855276936"
     },
     "user_tz": -420
    },
    "id": "7Y341Givi0WH",
    "outputId": "54f6a555-f8f0-4c60-e107-58c0feb5919d"
   },
   "outputs": [
    {
     "name": "stdout",
     "output_type": "stream",
     "text": [
      "🙏 LỜI CẢM ƠN\n",
      "====================\n",
      "   • Cảm ơn dataset từ Kaggle Healthcare Stroke Data\n",
      "   • Cảm ơn cộng đồng open-source Python\n",
      "   • Cảm ơn các nghiên cứu y học về đột quỵ\n",
      "\n",
      "📚 TÀI LIỆU THAM KHẢO:\n",
      "   1. World Health Organization - Stroke Guidelines\n",
      "   2. American Heart Association - Risk Factors\n",
      "   3. Scikit-learn Documentation\n",
      "   4. Pandas & NumPy Documentation\n",
      "   5. Seaborn & Matplotlib Documentation\n",
      "\n",
      "📧 LIÊN HỆ:\n",
      "   • Email: [your-email@domain.com]\n",
      "   • GitHub: [your-github-profile]\n",
      "   • LinkedIn: [your-linkedin-profile]\n",
      "\n",
      "============================================================\n",
      "🎉 HOÀN THÀNH DỰ ÁN PHÂN TÍCH DỮ LIỆU ĐỘT QUỴ\n",
      "📅 Ngày hoàn thành: 2025-10-05 13:26:39\n",
      "============================================================\n"
     ]
    }
   ],
   "source": [
    "print(\"🙏 LỜI CẢM ƠN\")\n",
    "print(\"=\" * 20)\n",
    "print(\"   • Cảm ơn dataset từ Kaggle Healthcare Stroke Data\")\n",
    "print(\"   • Cảm ơn cộng đồng open-source Python\")\n",
    "print(\"   • Cảm ơn các nghiên cứu y học về đột quỵ\")\n",
    "\n",
    "print(\"\\n📚 TÀI LIỆU THAM KHẢO:\")\n",
    "print(\"   1. World Health Organization - Stroke Guidelines\")\n",
    "print(\"   2. American Heart Association - Risk Factors\")\n",
    "print(\"   3. Scikit-learn Documentation\")\n",
    "print(\"   4. Pandas & NumPy Documentation\")\n",
    "print(\"   5. Seaborn & Matplotlib Documentation\")\n",
    "\n",
    "print(\"\\n📧 LIÊN HỆ:\")\n",
    "print(\"   • Email: [your-email@domain.com]\")\n",
    "print(\"   • GitHub: [your-github-profile]\")\n",
    "print(\"   • LinkedIn: [your-linkedin-profile]\")\n",
    "\n",
    "print(\"\\n\" + \"=\"*60)\n",
    "print(\"🎉 HOÀN THÀNH DỰ ÁN PHÂN TÍCH DỮ LIỆU ĐỘT QUỴ\")\n",
    "print(\"📅 Ngày hoàn thành:\", datetime.now().strftime('%Y-%m-%d %H:%M:%S'))\n",
    "print(\"=\"*60)"
   ]
  }
 ],
 "metadata": {
  "colab": {
   "provenance": []
  },
  "kernelspec": {
   "display_name": "Python 3",
   "language": "python",
   "name": "python3"
  },
  "language_info": {
   "codemirror_mode": {
    "name": "ipython",
    "version": 3
   },
   "file_extension": ".py",
   "mimetype": "text/x-python",
   "name": "python",
   "nbconvert_exporter": "python",
   "pygments_lexer": "ipython3",
   "version": "3.8.5"
  }
 },
 "nbformat": 4,
 "nbformat_minor": 0
}
