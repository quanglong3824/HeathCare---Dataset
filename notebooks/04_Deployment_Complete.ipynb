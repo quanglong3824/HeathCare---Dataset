{
 "cells": [
  {
   "cell_type": "markdown",
   "metadata": {},
   "source": [
    "# 🚀 Triển Khai Mô Hình và Ứng Dụng Web\n",
    "\n",
    "## Mục tiêu:\n",
    "- Tạo ứng dụng web để dự đoán đột quỵ\n",
    "- Xây dựng API endpoints\n",
    "- Tạo giao diện người dùng thân thiện\n",
    "- Hướng dẫn deployment"
   ]
  },
  {
   "cell_type": "markdown",
   "metadata": {},
   "source": [
    "## 📋 Tóm Tắt Deployment\n",
    "\n",
    "### ✅ Đã Tạo:\n",
    "1. **Streamlit Web App** - Giao diện người dùng thân thiện\n",
    "2. **Flask REST API** - API endpoints cho integration\n",
    "3. **Docker Configuration** - Container deployment\n",
    "4. **Deployment Scripts** - Automation scripts\n",
    "5. **Monitoring Tools** - Health check và monitoring\n",
    "\n",
    "### 🚀 Cách Sử Dụng:\n",
    "1. **Development**: `./scripts/run_streamlit.sh` hoặc `./scripts/run_flask.sh`\n",
    "2. **Production**: `./scripts/deploy_docker.sh`\n",
    "3. **Monitoring**: `./scripts/health_check.sh`\n",
    "\n",
    "### 🔗 Endpoints:\n",
    "- **Streamlit App**: http://localhost:8501\n",
    "- **Flask API**: http://localhost:5000\n",
    "- **API Health**: http://localhost:5000/health\n",
    "- **Model Info**: http://localhost:5000/model-info\n",
    "\n",
    "### 📊 Features:\n",
    "- ✅ Real-time prediction\n",
    "- ✅ Interactive web interface\n",
    "- ✅ REST API for integration\n",
    "- ✅ Docker containerization\n",
    "- ✅ Load balancing với Nginx\n",
    "- ✅ Health monitoring\n",
    "- ✅ Responsive design\n",
    "\n",
    "### 🔄 Next Steps:\n",
    "1. Test các applications locally\n",
    "2. Deploy lên cloud platform\n",
    "3. Cấu hình CI/CD pipeline\n",
    "4. Setup monitoring và alerting\n",
    "5. Implement user authentication (nếu cần)"
   ]
  },
  {
   "cell_type": "markdown",
   "metadata": {},
   "source": [
    "## 🚀 Các Phương Thức Deployment\n",
    "\n",
    "#### 1. **Local Development**\n",
    "```bash\n",
    "# Chạy Streamlit App\n",
    "./scripts/run_streamlit.sh\n",
    "# Truy cập: http://localhost:8501\n",
    "\n",
    "# Chạy Flask API\n",
    "./scripts/run_flask.sh\n",
    "# Truy cập: http://localhost:5000\n",
    "```\n",
    "\n",
    "#### 2. **Docker Deployment**\n",
    "```bash\n",
    "# Deployment với Docker Compose\n",
    "./scripts/deploy_docker.sh\n",
    "\n",
    "# Kiểm tra status\n",
    "docker-compose ps\n",
    "\n",
    "# Xem logs\n",
    "docker-compose logs -f\n",
    "\n",
    "# Dừng services\n",
    "docker-compose down\n",
    "```\n",
    "\n",
    "#### 3. **Cloud Deployment (AWS/GCP/Azure)**\n",
    "- Sử dụng Docker images đã tạo\n",
    "- Deploy lên container services (ECS, Cloud Run, Container Instances)\n",
    "- Cấu hình load balancer và auto-scaling\n",
    "\n",
    "#### 4. **Heroku Deployment**\n",
    "```bash\n",
    "# Tạo Procfile cho Heroku\n",
    "echo \"web: streamlit run src/streamlit_app.py --server.port=$PORT --server.address=0.0.0.0\" > Procfile\n",
    "\n",
    "# Deploy\n",
    "heroku create your-app-name\n",
    "git push heroku main\n",
    "```"
   ]
  }
 ],
 "metadata": {
  "kernelspec": {
   "display_name": "Python 3",
   "language": "python",
   "name": "python3"
  },
  "language_info": {
   "codemirror_mode": {
    "name": "ipython",
    "version": 3
   },
   "file_extension": ".py",
   "mimetype": "text/x-python",
   "name": "python",
   "nbconvert_exporter": "python",
   "pygments_lexer": "ipython3",
   "version": "3.8.5"
  }
 },
 "nbformat": 4,
 "nbformat_minor": 4
}