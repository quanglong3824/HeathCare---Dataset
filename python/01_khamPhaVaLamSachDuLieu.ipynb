{
 "cells": [
  {
   "cell_type": "markdown",
   "metadata": {},
   "source": [
    "# NOTEBOOK 01: KHÁM PHÁ VÀ LÀM SẠCH DỮ LIỆU\n",
    "\n",
    "## Mục tiêu:\n",
    "- Tải và khám phá cấu trúc dữ liệu\n",
    "- Phân tích các giá trị thiếu và ngoại lai\n",
    "- Làm sạch và tiền xử lý dữ liệu\n",
    "- Chuẩn bị dữ liệu cho các bước phân tích tiếp theo"
   ]
  },
  {
   "cell_type": "markdown",
   "metadata": {},
   "source": [
    "## 1. IMPORT CÁC THƯ VIỆN CẦN THIẾT"
   ]
  },
  {
   "cell_type": "code",
   "execution_count": null,
   "metadata": {},
   "outputs": [],
   "source": [
    "# Import các thư viện cơ bản\n",
    "import pandas as pd\n",
    "import numpy as np\n",
    "import matplotlib.pyplot as plt\n",
    "import seaborn as sns\n",
    "import warnings\n",
    "from scipy import stats\n",
    "\n",
    "# Cấu hình hiển thị\n",
    "plt.style.use('seaborn-v0_8')\n",
    "sns.set_palette(\"husl\")\n",
    "warnings.filterwarnings('ignore')\n",
    "pd.set_option('display.max_columns', None)\n",
    "pd.set_option('display.width', None)\n",
    "\n",
    "print(\"✅ Đã import thành công các thư viện cần thiết!\")"
   ]
  },
  {
   "cell_type": "markdown",
   "metadata": {},
   "source": [
    "## 2. TẢI VÀ KHÁM PHÁ DỮ LIỆU"
   ]
  },
  {
   "cell_type": "code",
   "execution_count": null,
   "metadata": {},
   "outputs": [],
   "source": [
    "# Tải dữ liệu\n",
    "duongDanFile = '../healthcare-dataset-stroke-data.csv.xls'\n",
    "duLieuGoc = pd.read_csv(duongDanFile)\n",
    "\n",
    "print(f\"📊 Kích thước dữ liệu: {duLieuGoc.shape}\")\n",
    "print(f\"📋 Số dòng: {duLieuGoc.shape[0]:,}\")\n",
    "print(f\"📋 Số cột: {duLieuGoc.shape[1]}\")\n",
    "print(\"\\n\" + \"=\"*50)\n",
    "print(\"🔍 THÔNG TIN TỔNG QUAN VỀ DỮ LIỆU\")\n",
    "print(\"=\"*50)\n",
    "duLieuGoc.info()"
   ]
  },
  {
   "cell_type": "code",
   "execution_count": null,
   "metadata": {},
   "outputs": [],
   "source": [
    "# Hiển thị 5 dòng đầu tiên\n",
    "print(\"🔍 5 DÒNG ĐẦU TIÊN CỦA DỮ LIỆU:\")\n",
    "print(\"=\"*50)\n",
    "duLieuGoc.head()"
   ]
  },
  {
   "cell_type": "code",
   "execution_count": null,
   "metadata": {},
   "outputs": [],
   "source": [
    "# Thống kê mô tả cơ bản\n",
    "print(\"📈 THỐNG KÊ MÔ TẢ CÁC BIẾN SỐ:\")\n",
    "print(\"=\"*50)\n",
    "duLieuGoc.describe()"
   ]
  },
  {
   "cell_type": "code",
   "execution_count": null,
   "metadata": {},
   "outputs": [],
   "source": [
    "# Thống kê các biến phân loại\n",
    "print(\"📊 THỐNG KÊ CÁC BIẾN PHÂN LOẠI:\")\n",
    "print(\"=\"*50)\n",
    "\n",
    "cacBienPhanLoai = ['gender', 'ever_married', 'work_type', 'Residence_type', 'smoking_status', 'stroke']\n",
    "\n",
    "for bien in cacBienPhanLoai:\n",
    "    print(f\"\\n🏷️ Biến '{bien}':\")\n",
    "    print(\"-\" * 30)\n",
    "    giaTriDem = duLieuGoc[bien].value_counts()\n",
    "    tyLePhanTram = duLieuGoc[bien].value_counts(normalize=True) * 100\n",
    "    \n",
    "    ketQua = pd.DataFrame({\n",
    "        'soLuong': giaTriDem,\n",
    "        'tyLePhanTram': tyLePhanTram.round(2)\n",
    "    })\n",
    "    print(ketQua)"
   ]
  },
  {
   "cell_type": "markdown",
   "metadata": {},
   "source": [
    "## 3. PHÂN TÍCH GIÁ TRỊ THIẾU"
   ]
  },
  {
   "cell_type": "code",
   "execution_count": null,
   "metadata": {},
   "outputs": [],
   "source": [
    "# Kiểm tra giá trị thiếu\n",
    "print(\"🔍 PHÂN TÍCH GIÁ TRỊ THIẾU:\")\n",
    "print(\"=\"*50)\n",
    "\n",
    "giaTriThieu = duLieuGoc.isnull().sum()\n",
    "tyLeThieu = (duLieuGoc.isnull().sum() / len(duLieuGoc)) * 100\n",
    "\n",
    "bangGiaTriThieu = pd.DataFrame({\n",
    "    'soLuongThieu': giaTriThieu,\n",
    "    'tyLeThieu': tyLeThieu.round(2)\n",
    "})\n",
    "\n",
    "bangGiaTriThieu = bangGiaTriThieu[bangGiaTriThieu['soLuongThieu'] > 0].sort_values('soLuongThieu', ascending=False)\n",
    "\n",
    "if len(bangGiaTriThieu) > 0:\n",
    "    print(bangGiaTriThieu)\n",
    "else:\n",
    "    print(\"✅ Không có giá trị thiếu trong dữ liệu!\")"
   ]
  },
  {
   "cell_type": "code",
   "execution_count": null,
   "metadata": {},
   "outputs": [],
   "source": [
    "# Kiểm tra giá trị 'N/A' trong cột BMI\n",
    "print(\"🔍 KIỂM TRA GIÁ TRỊ 'N/A' TRONG CỘT BMI:\")\n",
    "print(\"=\"*50)\n",
    "\n",
    "soLuongNA = (duLieuGoc['bmi'] == 'N/A').sum()\n",
    "tyLeNA = (soLuongNA / len(duLieuGoc)) * 100\n",
    "\n",
    "print(f\"Số lượng giá trị 'N/A' trong BMI: {soLuongNA}\")\n",
    "print(f\"Tỷ lệ giá trị 'N/A': {tyLeNA:.2f}%\")\n",
    "\n",
    "# Hiển thị một số mẫu có BMI = 'N/A'\n",
    "if soLuongNA > 0:\n",
    "    print(\"\\n📋 Một số mẫu có BMI = 'N/A':\")\n",
    "    print(duLieuGoc[duLieuGoc['bmi'] == 'N/A'].head())"
   ]
  },
  {
   "cell_type": "markdown",
   "metadata": {},
   "source": [
    "## 4. LÀM SẠCH VÀ TIỀN XỬ LÝ DỮ LIỆU"
   ]
  },
  {
   "cell_type": "code",
   "execution_count": null,
   "metadata": {},
   "outputs": [],
   "source": [
    "# Tạo bản sao để xử lý\n",
    "duLieuSach = duLieuGoc.copy()\n",
    "\n",
    "print(\"🧹 BẮT ĐẦU QUÁ TRÌNH LÀM SẠCH DỮ LIỆU\")\n",
    "print(\"=\"*50)\n",
    "\n",
    "# 1. Xử lý cột BMI\n",
    "print(\"\\n1️⃣ Xử lý cột BMI:\")\n",
    "print(\"-\" * 20)\n",
    "\n",
    "# Chuyển 'N/A' thành NaN\n",
    "duLieuSach['bmi'] = duLieuSach['bmi'].replace('N/A', np.nan)\n",
    "\n",
    "# Chuyển đổi kiểu dữ liệu sang float\n",
    "duLieuSach['bmi'] = pd.to_numeric(duLieuSach['bmi'], errors='coerce')\n",
    "\n",
    "soLuongNaN = duLieuSach['bmi'].isnull().sum()\n",
    "print(f\"Số lượng giá trị NaN trong BMI sau xử lý: {soLuongNaN}\")\n",
    "\n",
    "# Thay thế giá trị thiếu bằng median\n",
    "medianBMI = duLieuSach['bmi'].median()\n",
    "duLieuSach['bmi'].fillna(medianBMI, inplace=True)\n",
    "print(f\"Đã thay thế giá trị thiếu bằng median: {medianBMI:.2f}\")\n",
    "\n",
    "print(f\"✅ Hoàn thành xử lý cột BMI\")"
   ]
  },
  {
   "cell_type": "code",
   "execution_count": null,
   "metadata": {},
   "outputs": [],
   "source": [
    "# 2. Kiểm tra và xử lý dữ liệu ngoại lai\n",
    "print(\"\\n2️⃣ Phân tích dữ liệu ngoại lai:\")\n",
    "print(\"-\" * 30)\n",
    "\n",
    "cacBienSo = ['age', 'avg_glucose_level', 'bmi']\n",
    "\n",
    "for bien in cacBienSo:\n",
    "    print(f\"\\n🔍 Biến '{bien}':\")\n",
    "    \n",
    "    # Tính toán IQR\n",
    "    Q1 = duLieuSach[bien].quantile(0.25)\n",
    "    Q3 = duLieuSach[bien].quantile(0.75)\n",
    "    IQR = Q3 - Q1\n",
    "    \n",
    "    # Xác định ngưỡng ngoại lai\n",
    "    nguongDuoi = Q1 - 1.5 * IQR\n",
    "    nguongTren = Q3 + 1.5 * IQR\n",
    "    \n",
    "    # Đếm số lượng ngoại lai\n",
    "    ngoaiLai = duLieuSach[(duLieuSach[bien] < nguongDuoi) | (duLieuSach[bien] > nguongTren)]\n",
    "    soLuongNgoaiLai = len(ngoaiLai)\n",
    "    tyLeNgoaiLai = (soLuongNgoaiLai / len(duLieuSach)) * 100\n",
    "    \n",
    "    print(f\"  - Q1: {Q1:.2f}, Q3: {Q3:.2f}, IQR: {IQR:.2f}\")\n",
    "    print(f\"  - Ngưỡng: [{nguongDuoi:.2f}, {nguongTren:.2f}]\")\n",
    "    print(f\"  - Số lượng ngoại lai: {soLuongNgoaiLai} ({tyLeNgoaiLai:.2f}%)\")\n",
    "    \n",
    "    if soLuongNgoaiLai > 0:\n",
    "        print(f\"  - Giá trị min ngoại lai: {ngoaiLai[bien].min():.2f}\")\n",
    "        print(f\"  - Giá trị max ngoại lai: {ngoaiLai[bien].max():.2f}\")"
   ]
  },
  {
   "cell_type": "code",
   "execution_count": null,
   "metadata": {},
   "outputs": [],
   "source": [
    "# 3. Tạo biểu đồ boxplot để trực quan hóa ngoại lai\n",
    "print(\"\\n📊 TRỰC QUAN HÓA DỮ LIỆU NGOẠI LAI:\")\n",
    "print(\"=\"*50)\n",
    "\n",
    "fig, axes = plt.subplots(1, 3, figsize=(15, 5))\n",
    "fig.suptitle('Biểu đồ Boxplot - Phát hiện dữ liệu ngoại lai', fontsize=16, fontweight='bold')\n",
    "\n",
    "for i, bien in enumerate(cacBienSo):\n",
    "    axes[i].boxplot(duLieuSach[bien].dropna())\n",
    "    axes[i].set_title(f'{bien.upper()}', fontweight='bold')\n",
    "    axes[i].set_ylabel('Giá trị')\n",
    "    axes[i].grid(True, alpha=0.3)\n",
    "\n",
    "plt.tight_layout()\n",
    "plt.show()"
   ]
  },
  {
   "cell_type": "code",
   "execution_count": null,
   "metadata": {},
   "outputs": [],
   "source": [
    "# 4. Kiểm tra tính hợp lý của dữ liệu\n",
    "print(\"\\n3️⃣ Kiểm tra tính hợp lý của dữ liệu:\")\n",
    "print(\"-\" * 40)\n",
    "\n",
    "# Kiểm tra tuổi\n",
    "tuoiKhongHopLy = duLieuSach[(duLieuSach['age'] < 0) | (duLieuSach['age'] > 120)]\n",
    "print(f\"Số mẫu có tuổi không hợp lý (< 0 hoặc > 120): {len(tuoiKhongHopLy)}\")\n",
    "\n",
    "# Kiểm tra BMI\n",
    "bmiKhongHopLy = duLieuSach[(duLieuSach['bmi'] < 10) | (duLieuSach['bmi'] > 60)]\n",
    "print(f\"Số mẫu có BMI không hợp lý (< 10 hoặc > 60): {len(bmiKhongHopLy)}\")\n",
    "\n",
    "# Kiểm tra glucose\n",
    "glucoseKhongHopLy = duLieuSach[(duLieuSach['avg_glucose_level'] < 50) | (duLieuSach['avg_glucose_level'] > 500)]\n",
    "print(f\"Số mẫu có glucose không hợp lý (< 50 hoặc > 500): {len(glucoseKhongHopLy)}\")\n",
    "\n",
    "# Kiểm tra logic nghiệp vụ\n",
    "treEmLamViec = duLieuSach[(duLieuSach['age'] < 16) & (duLieuSach['work_type'].isin(['Private', 'Self-employed', 'Govt_job']))]\n",
    "print(f\"Số trẻ em (< 16 tuổi) có công việc người lớn: {len(treEmLamViec)}\")\n",
    "\n",
    "treEmKetHon = duLieuSach[(duLieuSach['age'] < 16) & (duLieuSach['ever_married'] == 'Yes')]\n",
    "print(f\"Số trẻ em (< 16 tuổi) đã kết hôn: {len(treEmKetHon)}\")"
   ]
  },
  {
   "cell_type": "markdown",
   "metadata": {},
   "source": [
    "## 5. TẠO CÁC BIẾN MỚI VÀ MÃ HÓA DỮ LIỆU"
   ]
  },
  {
   "cell_type": "code",
   "execution_count": null,
   "metadata": {},
   "outputs": [],
   "source": [
    "# Tạo các biến mới\n",
    "print(\"🔧 TẠO CÁC BIẾN MỚI:\")\n",
    "print(\"=\"*50)\n",
    "\n",
    "# 1. Phân loại tuổi\n",
    "def phanLoaiTuoi(tuoi):\n",
    "    if tuoi < 18:\n",
    "        return 'treEm'\n",
    "    elif tuoi < 30:\n",
    "        return 'tuoiTre'\n",
    "    elif tuoi < 50:\n",
    "        return 'trungNien'\n",
    "    elif tuoi < 65:\n",
    "        return 'truocTuoiHuu'\n",
    "    else:\n",
    "        return 'tuoiCao'\n",
    "\n",
    "duLieuSach['nhomTuoi'] = duLieuSach['age'].apply(phanLoaiTuoi)\n",
    "print(\"✅ Đã tạo biến 'nhomTuoi'\")\n",
    "\n",
    "# 2. Phân loại BMI\n",
    "def phanLoaiBMI(bmi):\n",
    "    if bmi < 18.5:\n",
    "        return 'thieuCan'\n",
    "    elif bmi < 25:\n",
    "        return 'binhThuong'\n",
    "    elif bmi < 30:\n",
    "        return 'thua Can'\n",
    "    else:\n",
    "        return 'beoPhi'\n",
    "\n",
    "duLieuSach['nhomBMI'] = duLieuSach['bmi'].apply(phanLoaiBMI)\n",
    "print(\"✅ Đã tạo biến 'nhomBMI'\")\n",
    "\n",
    "# 3. Phân loại glucose\n",
    "def phanLoaiGlucose(glucose):\n",
    "    if glucose < 100:\n",
    "        return 'binhThuong'\n",
    "    elif glucose < 126:\n",
    "        return 'tienTieuDuong'\n",
    "    else:\n",
    "        return 'tieuDuong'\n",
    "\n",
    "duLieuSach['nhomGlucose'] = duLieuSach['avg_glucose_level'].apply(phanLoaiGlucose)\n",
    "print(\"✅ Đã tạo biến 'nhomGlucose'\")\n",
    "\n",
    "# 4. Tạo biến tổng hợp nguy cơ\n",
    "duLieuSach['diemNguyCo'] = (\n",
    "    duLieuSach['hypertension'] + \n",
    "    duLieuSach['heart_disease'] + \n",
    "    (duLieuSach['age'] > 65).astype(int) +\n",
    "    (duLieuSach['bmi'] > 30).astype(int) +\n",
    "    (duLieuSach['avg_glucose_level'] > 126).astype(int)\n",
    ")\n",
    "print(\"✅ Đã tạo biến 'diemNguyCo'\")"
   ]
  },
  {
   "cell_type": "code",
   "execution_count": null,
   "metadata": {},
   "outputs": [],
   "source": [
    "# Hiển thị thống kê các biến mới\n",
    "print(\"\\n📊 THỐNG KÊ CÁC BIẾN MỚI:\")\n",
    "print(\"=\"*50)\n",
    "\n",
    "cacBienMoi = ['nhomTuoi', 'nhomBMI', 'nhomGlucose']\n",
    "\n",
    "for bien in cacBienMoi:\n",
    "    print(f\"\\n🏷️ Biến '{bien}':\")\n",
    "    print(\"-\" * 30)\n",
    "    giaTriDem = duLieuSach[bien].value_counts()\n",
    "    tyLePhanTram = duLieuSach[bien].value_counts(normalize=True) * 100\n",
    "    \n",
    "    ketQua = pd.DataFrame({\n",
    "        'soLuong': giaTriDem,\n",
    "        'tyLePhanTram': tyLePhanTram.round(2)\n",
    "    })\n",
    "    print(ketQua)\n",
    "\n",
    "print(f\"\\n🏷️ Biến 'diemNguyCo':\")\n",
    "print(\"-\" * 30)\n",
    "print(duLieuSach['diemNguyCo'].describe())"
   ]
  },
  {
   "cell_type": "markdown",
   "metadata": {},
   "source": [
    "## 6. KIỂM TRA CHẤT LƯỢNG DỮ LIỆU SAU XỬ LÝ"
   ]
  },
  {
   "cell_type": "code",
   "execution_count": null,
   "metadata": {},
   "outputs": [],
   "source": [
    "# Kiểm tra chất lượng dữ liệu cuối cùng\n",
    "print(\"✅ KIỂM TRA CHẤT LƯỢNG DỮ LIỆU SAU XỬ LÝ:\")\n",
    "print(\"=\"*50)\n",
    "\n",
    "print(f\"📊 Kích thước dữ liệu sau xử lý: {duLieuSach.shape}\")\n",
    "print(f\"📋 Số dòng: {duLieuSach.shape[0]:,}\")\n",
    "print(f\"📋 Số cột: {duLieuSach.shape[1]}\")\n",
    "\n",
    "# Kiểm tra giá trị thiếu\n",
    "giaTriThieuSauXuLy = duLieuSach.isnull().sum().sum()\n",
    "print(f\"\\n🔍 Tổng số giá trị thiếu: {giaTriThieuSauXuLy}\")\n",
    "\n",
    "# Kiểm tra trùng lặp\n",
    "soLuongTrungLap = duLieuSach.duplicated().sum()\n",
    "print(f\"🔍 Số dòng trùng lặp: {soLuongTrungLap}\")\n",
    "\n",
    "# Thống kê biến mục tiêu\n",
    "print(f\"\\n🎯 Phân phối biến mục tiêu 'stroke':\")\n",
    "phanPhoiStroke = duLieuSach['stroke'].value_counts()\n",
    "tyLePhanPhoiStroke = duLieuSach['stroke'].value_counts(normalize=True) * 100\n",
    "\n",
    "bangPhanPhoi = pd.DataFrame({\n",
    "    'soLuong': phanPhoiStroke,\n",
    "    'tyLePhanTram': tyLePhanPhoiStroke.round(2)\n",
    "})\n",
    "bangPhanPhoi.index = ['Không đột quỵ', 'Có đột quỵ']\n",
    "print(bangPhanPhoi)"
   ]
  },
  {
   "cell_type": "markdown",
   "metadata": {},
   "source": [
    "## 7. LUU DỮ LIỆU ĐÃ XỬ LÝ"
   ]
  },
  {
   "cell_type": "code",
   "execution_count": null,
   "metadata": {},
   "outputs": [],
   "source": [
    "# Lưu dữ liệu đã xử lý\n",
    "duongDanLuu = '../data_processed/du_lieu_da_xu_ly.csv'\n",
    "\n",
    "# Tạo thư mục nếu chưa tồn tại\n",
    "import os\n",
    "os.makedirs('../data_processed', exist_ok=True)\n",
    "\n",
    "# Lưu file\n",
    "duLieuSach.to_csv(duongDanLuu, index=False)\n",
    "print(f\"💾 Đã lưu dữ liệu đã xử lý vào: {duongDanLuu}\")\n",
    "\n",
    "# Hiển thị thông tin tóm tắt\n",
    "print(\"\\n\" + \"=\"*60)\n",
    "print(\"📋 TÓM TẮT QUÁ TRÌNH XỬ LÝ DỮ LIỆU\")\n",
    "print(\"=\"*60)\n",
    "print(f\"✅ Dữ liệu gốc: {duLieuGoc.shape[0]:,} dòng, {duLieuGoc.shape[1]} cột\")\n",
    "print(f\"✅ Dữ liệu sau xử lý: {duLieuSach.shape[0]:,} dòng, {duLieuSach.shape[1]} cột\")\n",
    "print(f\"✅ Đã xử lý {soLuongNA} giá trị thiếu trong cột BMI\")\n",
    "print(f\"✅ Đã tạo {len(cacBienMoi) + 1} biến mới\")\n",
    "print(f\"✅ Dữ liệu đã sẵn sàng cho các bước phân tích tiếp theo\")\n",
    "print(\"=\"*60)"
   ]
  }
 ],
 "metadata": {
  "kernelspec": {
   "display_name": "Python 3",
   "language": "python",
   "name": "python3"
  },
  "language_info": {
   "codemirror_mode": {
    "name": "ipython",
    "version": 3
   },
   "file_extension": ".py",
   "mimetype": "text/x-python",
   "name": "python",
   "nbconvert_exporter": "python",
   "pygments_lexer": "ipython3",
   "version": "3.8.5"
  }
 },
 "nbformat": 4,
 "nbformat_minor": 4
}